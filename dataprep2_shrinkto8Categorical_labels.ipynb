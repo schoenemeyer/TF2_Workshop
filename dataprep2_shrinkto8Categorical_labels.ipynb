{
 "cells": [
  {
   "cell_type": "code",
   "execution_count": null,
   "metadata": {},
   "outputs": [],
   "source": [
    "# TODO : converting using numpy take really long time, find another way to do the conversion "
   ]
  },
  {
   "cell_type": "code",
   "execution_count": 12,
   "metadata": {},
   "outputs": [
    {
     "name": "stdout",
     "output_type": "stream",
     "text": [
      "saving complete for 2975 images\n"
     ]
    }
   ],
   "source": [
    "import os \n",
    "import numpy as np\n",
    "import cv2\n",
    "\n",
    "\n",
    "labels = [\n",
    "    (  'void'  , (  0,  0,  0) ), \n",
    "    (  'void'  , (111, 74,  0) ),\n",
    "    (  'void'  , ( 81,  0, 81) ),\n",
    "    (  'flat'  , (128, 64,128) ),\n",
    "    (  'flat'  , (244, 35,232) ),\n",
    "    (  'flat'  , (250,170,160) ),\n",
    "    (  'flat'  , (230,150,140) ),\n",
    "    (  'construction'  , ( 70, 70, 70) ),\n",
    "    (  'construction'  , (102,102,156) ),\n",
    "    (  'construction'  , (190,153,153) ),\n",
    "    (  'construction'  , (180,165,180) ),\n",
    "    (  'construction'  , (150,100,100) ),\n",
    "    (  'construction'  , (150,120, 90) ),\n",
    "    (  'object'    , (153,153,153) ),\n",
    "    (  'object'    , (250,170, 30) ),\n",
    "    (  'object'    , (220,220,  0) ),\n",
    "    (  'nature'    , (107,142, 35) ),\n",
    "    (  'nature'    , (152,251,152) ),\n",
    "    (  'sky'       , ( 70,130,180) ),\n",
    "    (  'human'     , (220, 20, 60) ),\n",
    "    (  'human'     , (255,  0,  0) ),\n",
    "    (  'vehicle'   , (  0,  0,142) ),\n",
    "    (  'vehicle'   , (  0,  0, 70) ),\n",
    "    (  'vehicle'   , (  0, 60,100) ),\n",
    "    (  'vehicle'   , (  0,  0, 90) ),\n",
    "    (  'vehicle'   , (  0,  0,110) ),\n",
    "    (  'vehicle'   , (  0, 80,100) ),\n",
    "    (  'vehicle'   , (  0,  0,230) ),\n",
    "    (  'vehicle'   , (119, 11, 32) )]\n",
    "\n",
    "category=dict([('void',0),('flat',1),('construction',2),('object',3),('nature',4),('sky',5),('human',6),('vehicle',7)])\n",
    "\n",
    "def fill_in_empty(mask,placeholder,tp,current_label):\n",
    "    for i in range(1024):\n",
    "        for j in range(2048):\n",
    "            if tp[i,j]:\n",
    "                placeholder[i,j,0]=current_label                \n",
    "    return placeholder\n",
    "\n",
    "\n",
    "def re_create_mask(mask, placeholder, label_name, label_color, current_label, current_color, category):\n",
    "    if current_label==label_name and current_color==label_color:\n",
    "        #placeholder=np.zero(shape=(1024,2048,1), dtype=np.float)\n",
    "        tp=np.all(mask==current_color,axis=-1)\n",
    "        placeholder=fill_in_empty(mask,placeholder,tp,category[current_label])\n",
    "        return placeholder , current_label, current_color\n",
    "    elif current_label==label_name and current_color!=label_color:\n",
    "        current_color=label_color\n",
    "        tp=np.all(mask==current_color,axis=-1)\n",
    "        placeholder=fill_in_empty(mask,placeholder,tp,category[current_label])\n",
    "        return placeholder, current_label, current_color\n",
    "    elif current_label!=label_name and current_color!=label_color:\n",
    "        current_label=label_name\n",
    "        current_color=label_color\n",
    "        tp=np.all(mask==current_color,axis=-1)\n",
    "        placeholder=fill_in_empty(mask,placeholder,tp,category[current_label])\n",
    "        return placeholder, current_label, current_color\n",
    "    else:\n",
    "        print(\"something is wrong, should have already eliminate same color, different label problems\")\n",
    "        \n",
    "show=3\n",
    "i=0\n",
    "show_labels=False\n",
    "visualize=True\n",
    "\n",
    "\n",
    "def outer_recreate(ma, labels):\n",
    "    idx=0\n",
    "    placeholder=np.zeros(shape=(1024,2048,1), dtype=np.float)\n",
    "    for  label_name, label_color in labels:\n",
    "        if idx==0:\n",
    "            current_label=label_name\n",
    "            current_color=label_color\n",
    "            placeholder, current_label, current_color=re_create_mask(ma, placeholder, label_name, label_color, current_label, current_color, category)\n",
    "            idx+=1\n",
    "        else :\n",
    "            placeholder, current_label, current_color=re_create_mask(ma, placeholder, label_name, label_color, current_label, current_color, category)\n",
    "            idx+=1\n",
    "    return placeholder\n",
    "gt_path='/workspace/8data/gt/'\n",
    "out_path='/workspace/8data/gt_cat/'\n",
    "gt_files=os.listdir(gt_path)\n",
    "##### TODO : convert pre-processing step from numpy to more efficient library, it took too long to convert to categorical label masks as images\n",
    "########### do not run the below prep step using numpy it took too long \n",
    "\"\"\"\n",
    "for gt_file in gt_files:\n",
    "    \n",
    "    file_name= gt_file.split('.')[0]+'.png'\n",
    "    #print(out_path+file_name, placeholder.shape)\n",
    "    #np.save(out_path+file_name, placeholder)\n",
    "    if os.path.exists(out_path+file_name):\n",
    "        pass\n",
    "    else:\n",
    "        ma=cv2.imread(gt_path+gt_file)\n",
    "        ma=ma[:,:,[2,1,0]]\n",
    "        placeholder=outer_recreate(ma, labels)\n",
    "        cv2.imwrite(out_path+file_name,placeholder)\n",
    "print(\"saving complete for {} images\".format(str(len(gt_files))))\"\"\""
   ]
  },
  {
   "cell_type": "code",
   "execution_count": 1,
   "metadata": {},
   "outputs": [
    {
     "data": {
      "text/plain": [
       "(2975, 2975)"
      ]
     },
     "execution_count": 1,
     "metadata": {},
     "output_type": "execute_result"
    }
   ],
   "source": [
    "import os\n",
    "imP='./raw/leftImg8bit/train/'\n",
    "maP='./raw/gtFine/train/'\n",
    "imO='/workspace/8data/img/'\n",
    "maO='/workspace/8data/gt_cat/'\n",
    "\n",
    "len(os.listdir(imO)),len(os.listdir(maO))\n",
    "\n",
    "    "
   ]
  },
  {
   "cell_type": "code",
   "execution_count": 8,
   "metadata": {},
   "outputs": [
    {
     "name": "stdout",
     "output_type": "stream",
     "text": [
      "/workspace/hiRes_Unet/8data/gt_cat/weimar_000136_000019_gtFine_color.png (1024, 2048, 1)\n",
      "(1024, 2048, 1) [[4.]\n",
      " [2.]\n",
      " [0.]\n",
      " [7.]\n",
      " [0.]\n",
      " [4.]\n",
      " [1.]\n",
      " [4.]\n",
      " [1.]\n",
      " [1.]]\n",
      "(1024, 2048) [4 2 0 7 0 4 1 4 1 1]\n"
     ]
    }
   ],
   "source": [
    "ma=cv2.imread(gt_path+gt_files[0])\n",
    "ma=ma[:,:,[2,1,0]]\n",
    "placeholder=outer_recreate(ma, labels)\n",
    "file_name= gt_files[0].split('.')[0]+'.png'\n",
    "print(out_path+file_name, placeholder.shape)\n",
    "#np.save(out_path+file_name, placeholder)\n",
    "cv2.imwrite(out_path+file_name,placeholder)\n",
    "import random\n",
    "rni=[random.randint(0,1023) for _ in range(10)]\n",
    "rnj=[ random.randint(0,2047) for _ in range(10)]\n",
    "print(placeholder.shape,placeholder[rni,rnj,:])\n",
    "new=cv2.imread(out_path+file_name,cv2.IMREAD_UNCHANGED)\n",
    "\n",
    "print(new.shape,new[rni,rnj])"
   ]
  },
  {
   "cell_type": "code",
   "execution_count": 4,
   "metadata": {},
   "outputs": [],
   "source": [
    "import os\n",
    "import numpy as np\n",
    "imO='/workspace/8data/img/'\n",
    "maO='/workspace/8data/gt_cat/'\n",
    "im_ls=os.listdir(imO)\n",
    "ma_ls=os.listdir(maO)\n",
    "\n",
    "with open(\"img8_small.txt\", \"w\") as f1:\n",
    "    with open(\"gt_cat8_small.txt\", \"w\") as f2:\n",
    "        \n",
    "        for im_name in im_ls:\n",
    "            keys=im_name.split('.')[0].split('_')[:3]\n",
    "            mask_name='_'.join(keys)+'_gtFine_color'+'.png' \n",
    "            \n",
    "            if os.path.exists(maO+mask_name):\n",
    "                #print(im_name,mask_name)\n",
    "                f1.write('%-1s\\n' % (imO+im_name))\n",
    "                #f2.write('%-1s,%s\\n' % (imO+im_name,maO+mask_name))\n",
    "                f2.write('%-1s\\n' % (maO+mask_name))  \n",
    "\n"
   ]
  },
  {
   "cell_type": "code",
   "execution_count": 2,
   "metadata": {},
   "outputs": [
    {
     "name": "stdout",
     "output_type": "stream",
     "text": [
      "/workspace/8data/img/strasbourg_000000_034387_leftImg8bit.png\n",
      "/workspace/8data/img/ulm_000040_000019_leftImg8bit.png\n",
      "/workspace/8data/img/hanover_000000_052729_leftImg8bit.png\n",
      "/workspace/8data/img/hanover_000000_048379_leftImg8bit.png\n",
      "/workspace/8data/img/stuttgart_000019_000019_leftImg8bit.png\n",
      "/workspace/8data/img/darmstadt_000008_000019_leftImg8bit.png\n",
      "/workspace/8data/img/hamburg_000000_098616_leftImg8bit.png\n",
      "/workspace/8data/img/krefeld_000000_029704_leftImg8bit.png\n",
      "/workspace/8data/img/strasbourg_000001_058373_leftImg8bit.png\n",
      "/workspace/8data/img/ulm_000043_000019_leftImg8bit.png\n"
     ]
    }
   ],
   "source": [
    "!head img8_small.txt"
   ]
  },
  {
   "cell_type": "code",
   "execution_count": 5,
   "metadata": {},
   "outputs": [
    {
     "name": "stdout",
     "output_type": "stream",
     "text": [
      "/workspace/8data/gt_cat/strasbourg_000000_034387_gtFine_color.png\n",
      "/workspace/8data/gt_cat/ulm_000040_000019_gtFine_color.png\n",
      "/workspace/8data/gt_cat/hanover_000000_052729_gtFine_color.png\n",
      "/workspace/8data/gt_cat/hanover_000000_048379_gtFine_color.png\n",
      "/workspace/8data/gt_cat/stuttgart_000019_000019_gtFine_color.png\n",
      "/workspace/8data/gt_cat/darmstadt_000008_000019_gtFine_color.png\n",
      "/workspace/8data/gt_cat/hamburg_000000_098616_gtFine_color.png\n",
      "/workspace/8data/gt_cat/krefeld_000000_029704_gtFine_color.png\n",
      "/workspace/8data/gt_cat/strasbourg_000001_058373_gtFine_color.png\n",
      "/workspace/8data/gt_cat/ulm_000043_000019_gtFine_color.png\n"
     ]
    }
   ],
   "source": [
    "!head gt_cat8_small.txt"
   ]
  },
  {
   "cell_type": "code",
   "execution_count": null,
   "metadata": {},
   "outputs": [],
   "source": []
  },
  {
   "cell_type": "code",
   "execution_count": 2,
   "metadata": {},
   "outputs": [],
   "source": []
  },
  {
   "cell_type": "code",
   "execution_count": null,
   "metadata": {},
   "outputs": [],
   "source": []
  },
  {
   "cell_type": "code",
   "execution_count": null,
   "metadata": {},
   "outputs": [],
   "source": []
  }
 ],
 "metadata": {
  "kernelspec": {
   "display_name": "Python 3",
   "language": "python",
   "name": "python3"
  },
  "language_info": {
   "codemirror_mode": {
    "name": "ipython",
    "version": 3
   },
   "file_extension": ".py",
   "mimetype": "text/x-python",
   "name": "python",
   "nbconvert_exporter": "python",
   "pygments_lexer": "ipython3",
   "version": "3.6.9"
  }
 },
 "nbformat": 4,
 "nbformat_minor": 4
}
